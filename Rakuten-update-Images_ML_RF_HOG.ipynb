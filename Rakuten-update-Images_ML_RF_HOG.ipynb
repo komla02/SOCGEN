{
 "cells": [
  {
   "cell_type": "markdown",
   "metadata": {},
   "source": [
    "Ce notebook illustre notre démarche pour classer les produits sur Rakuten en exploitant les données visuelles. \n",
    "La méthodologie s'articule autour de l'extraction de caractéristiques HOG (Histogram of Oriented Gradients) des images et de l'utilisation d'un modèle de Random Forest. Nous avons intégré un rééquilibrage des classes via RandomOverSampler pour adresser le déséquilibre des classes, suivi d'une optimisation des hyperparamètres du modèle via GridSearchCV. \n",
    "Cette approche a été choisie pour sa robustesse et son efficacité face aux défis posés par les données images complexes et le déséquilibre des classes"
   ]
  },
  {
   "cell_type": "code",
   "execution_count": 1,
   "metadata": {},
   "outputs": [],
   "source": [
    "import pandas as pd\n",
    "import numpy as np\n",
    "from skimage import io, color, feature, transform\n",
    "from sklearn.model_selection import train_test_split, GridSearchCV\n",
    "from sklearn.ensemble import RandomForestClassifier\n",
    "from sklearn.metrics import classification_report, accuracy_score\n",
    "from imblearn.over_sampling import RandomOverSampler\n",
    "import os\n",
    "import mlflow"
   ]
  },
  {
   "cell_type": "code",
   "execution_count": 2,
   "metadata": {},
   "outputs": [],
   "source": [
    "# Chemins vers les images et les données CSV\n",
    "images_path = \"../../data/raw/images/image_train\"\n",
    "X_csv_path = \"../../data/processed/X_train_update (komla).csv\"\n",
    "y_csv_path = \"../../data/processed/Y_train_CVw08PX (komla).csv\"\n",
    "\n",
    "# Chargement des données\n",
    "X_df = pd.read_csv(X_csv_path, index_col=0)\n",
    "y_df = pd.read_csv(y_csv_path, index_col=0).squeeze().map(str)\n",
    "X_df[\"image_path\"] = X_df.apply(\n",
    "    lambda row: os.path.join(\n",
    "        images_path, f\"image_{row.imageid}_product_{row.productid}.jpg\"\n",
    "    ),\n",
    "    axis=1,\n",
    ")"
   ]
  },
  {
   "cell_type": "code",
   "execution_count": 3,
   "metadata": {},
   "outputs": [],
   "source": [
    "mlflow.set_tracking_uri(\"../../mlruns\")\n",
    "mlflow.set_experiment(\"RF HOG\")\n",
    "mlflow.sklearn.autolog(log_datasets=False)"
   ]
  },
  {
   "cell_type": "code",
   "execution_count": 4,
   "metadata": {},
   "outputs": [],
   "source": [
    "# Fonction pour extraire les caractéristiques HOG d'une image\n",
    "def extract_hog_features(image_path):\n",
    "    image = io.imread(image_path)\n",
    "    image_gray = color.rgb2gray(image)\n",
    "    image_resized = transform.resize(image_gray, (128, 64), anti_aliasing=True)\n",
    "    hog_features = feature.hog(\n",
    "        image_resized, pixels_per_cell=(16, 16), cells_per_block=(1, 1), visualize=False\n",
    "    )\n",
    "    return hog_features"
   ]
  },
  {
   "cell_type": "code",
   "execution_count": 5,
   "metadata": {},
   "outputs": [],
   "source": [
    "# Préparation des données\n",
    "sample_X = X_df.head(50000)  # Ajustez selon vos besoins\n",
    "sample_y = y_df.loc[sample_X.index]\n",
    "\n",
    "features = np.array([extract_hog_features(path) for path in sample_X[\"image_path\"]])\n",
    "labels = sample_y.values"
   ]
  },
  {
   "cell_type": "code",
   "execution_count": 6,
   "metadata": {},
   "outputs": [],
   "source": [
    "# Rééquilibrage des classes avec RandomOverSampler\n",
    "ros = RandomOverSampler(random_state=42)\n",
    "X_resampled, y_resampled = ros.fit_resample(features, labels)"
   ]
  },
  {
   "cell_type": "code",
   "execution_count": 7,
   "metadata": {},
   "outputs": [],
   "source": [
    "# Division des données rééquilibrées en ensembles d'entraînement et de test\n",
    "X_train, X_test, y_train, y_test = train_test_split(\n",
    "    X_resampled, y_resampled, test_size=0.2, random_state=42\n",
    ")"
   ]
  },
  {
   "cell_type": "code",
   "execution_count": 8,
   "metadata": {},
   "outputs": [
    {
     "name": "stdout",
     "output_type": "stream",
     "text": [
      "Run id: d4a6f0783f7a441c82cea249802cde4d\n",
      "Fitting 5 folds for each of 12 candidates, totalling 60 fits\n"
     ]
    },
    {
     "name": "stderr",
     "output_type": "stream",
     "text": [
      "/opt/anaconda3/lib/python3.10/site-packages/joblib/externals/loky/process_executor.py:700: UserWarning: A worker stopped while some jobs were given to the executor. This can be caused by a too short worker timeout or by a memory leak.\n",
      "  warnings.warn(\n",
      "/opt/anaconda3/lib/python3.10/site-packages/sklearn/metrics/_classification.py:2916: UserWarning: The y_pred values do not sum to one. Starting from 1.5 thiswill result in an error.\n",
      "  warnings.warn(\n",
      "2024/05/05 20:57:33 WARNING mlflow.utils.autologging_utils: MLflow autologging encountered a warning: \"/opt/anaconda3/lib/python3.10/site-packages/_distutils_hack/__init__.py:33: UserWarning: Setuptools is replacing distutils.\"\n",
      "2024/05/05 20:57:36 INFO mlflow.sklearn.utils: Logging the 5 best runs, 7 runs will be omitted.\n"
     ]
    }
   ],
   "source": [
    "# Paramètres pour GridSearchCV\n",
    "param_grid = {\n",
    "    \"n_estimators\": [100, 200],\n",
    "    \"max_depth\": [None, 10, 20],\n",
    "    \"min_samples_split\": [2, 5],\n",
    "}\n",
    "\n",
    "# Création du modèle RandomForestClassifier pour GridSearchCV\n",
    "rf_model = RandomForestClassifier(random_state=42)\n",
    "\n",
    "# Création et exécution de GridSearchCV\n",
    "grid_search = GridSearchCV(\n",
    "    rf_model, param_grid, cv=5, scoring=\"f1_weighted\", n_jobs=-1, verbose=1\n",
    ")\n",
    "with mlflow.start_run() as run:\n",
    "    print(\"Run id:\", run.info.run_id)\n",
    "    grid_search.fit(X_train, y_train)"
   ]
  },
  {
   "cell_type": "code",
   "execution_count": 15,
   "metadata": {},
   "outputs": [
    {
     "name": "stdout",
     "output_type": "stream",
     "text": [
      "Meilleurs paramètres: {'max_depth': None, 'min_samples_split': 2, 'n_estimators': 200}\n",
      "Meilleur score: 0.9084459391024264\n"
     ]
    }
   ],
   "source": [
    "# Meilleurs paramètres et score\n",
    "print(\"Meilleurs paramètres:\", grid_search.best_params_)\n",
    "print(\"Meilleur score:\", grid_search.best_score_)"
   ]
  },
  {
   "cell_type": "code",
   "execution_count": 14,
   "metadata": {},
   "outputs": [
    {
     "name": "stdout",
     "output_type": "stream",
     "text": [
      "Précision sur l'ensemble de test: 0.94\n",
      "Rapport de classification :\n",
      "              precision    recall  f1-score   support\n",
      "\n",
      "          10       0.92      0.97      0.94      1178\n",
      "        1140       0.95      0.97      0.96      1141\n",
      "        1160       0.98      0.95      0.96      1244\n",
      "        1180       1.00      1.00      1.00      1180\n",
      "        1280       0.84      0.80      0.82      1153\n",
      "        1281       0.98      0.97      0.98      1270\n",
      "        1300       0.86      0.84      0.85      1192\n",
      "        1301       1.00      1.00      1.00      1218\n",
      "        1302       0.95      0.96      0.96      1169\n",
      "        1320       0.92      0.92      0.92      1189\n",
      "        1560       0.91      0.81      0.85      1204\n",
      "        1920       0.94      0.95      0.95      1171\n",
      "        1940       0.99      1.00      1.00      1235\n",
      "        2060       0.77      0.84      0.81      1161\n",
      "        2220       1.00      1.00      1.00      1215\n",
      "        2280       0.84      0.93      0.88      1165\n",
      "        2403       0.86      0.90      0.88      1228\n",
      "        2462       0.98      1.00      0.99      1214\n",
      "        2522       0.97      0.88      0.92      1177\n",
      "        2582       0.97      0.98      0.97      1218\n",
      "        2583       0.81      0.73      0.77      1173\n",
      "        2585       0.95      0.97      0.96      1195\n",
      "        2705       0.95      0.99      0.97      1194\n",
      "        2905       0.99      1.00      1.00      1213\n",
      "          40       0.98      0.97      0.97      1138\n",
      "          50       0.99      0.99      0.99      1201\n",
      "          60       1.00      1.00      1.00      1208\n",
      "\n",
      "    accuracy                           0.94     32244\n",
      "   macro avg       0.94      0.94      0.94     32244\n",
      "weighted avg       0.94      0.94      0.94     32244\n",
      "\n"
     ]
    }
   ],
   "source": [
    "# Prédiction et évaluation sur l'ensemble de test\n",
    "y_pred = grid_search.predict(X_test)\n",
    "print(f\"Précision sur l'ensemble de test: {accuracy_score(y_test, y_pred):.2f}\")\n",
    "print(\"Rapport de classification :\")\n",
    "print(classification_report(y_test, y_pred))"
   ]
  },
  {
   "cell_type": "markdown",
   "metadata": {},
   "source": [
    "En adoptant cette stratégie avancée de traitement d'images et de rééquilibrage des classes, nous avons obtenu une précision de classification de 94% sur notre ensemble de test. Ces résultats démontrent l'efficacité de notre approche combinée de techniques de traitement d'images, de rééquilibrage des classes, et de modélisation par apprentissage automatique, soulignant l'impact significatif sur la classification précise des produits et l'amélioration potentielle de l'expérience utilisateur sur les plateformes e-commerce."
   ]
  }
 ],
 "metadata": {
  "kernelspec": {
   "display_name": "Python 3 (ipykernel)",
   "language": "python",
   "name": "python3"
  },
  "language_info": {
   "codemirror_mode": {
    "name": "ipython",
    "version": 3
   },
   "file_extension": ".py",
   "mimetype": "text/x-python",
   "name": "python",
   "nbconvert_exporter": "python",
   "pygments_lexer": "ipython3",
   "version": "3.10.11"
  }
 },
 "nbformat": 4,
 "nbformat_minor": 2
}
